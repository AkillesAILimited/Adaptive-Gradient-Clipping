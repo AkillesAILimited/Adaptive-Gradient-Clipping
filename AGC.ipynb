{
  "nbformat": 4,
  "nbformat_minor": 0,
  "metadata": {
    "colab": {
      "name": "AGC.ipynb",
      "provenance": [],
      "authorship_tag": "ABX9TyMSD/ecW2CUjeYTcoPfPMgK",
      "include_colab_link": true
    },
    "kernelspec": {
      "name": "python3",
      "display_name": "Python 3"
    },
    "accelerator": "TPU"
  },
  "cells": [
    {
      "cell_type": "markdown",
      "metadata": {
        "id": "view-in-github",
        "colab_type": "text"
      },
      "source": [
        "<a href=\"https://colab.research.google.com/github/sayakpaul/Adaptive-Gradient-Clipping/blob/main/AGC.ipynb\" target=\"_parent\"><img src=\"https://colab.research.google.com/assets/colab-badge.svg\" alt=\"Open In Colab\"/></a>"
      ]
    },
    {
      "cell_type": "markdown",
      "metadata": {
        "id": "CvTYd_5CFHpe"
      },
      "source": [
        "This notebook demonstrates adaptive gradient clipping (AGC) as proposed in [High-Performance Large-Scale Image Recognition Without Normalization](https://arxiv.org/abs/2102.06171). For keeping it simple, I have used a MiniVGG style network architecture without any Batch Normalization layers. Results are demonstrated on the flowers dataset. \n",
        "\n",
        "One major difference in my implementation is that I clipped gradients of all the layers whereas in the original paper final linear layer wasn't clipped (refer to Section 4.1 of the original paper). "
      ]
    },
    {
      "cell_type": "markdown",
      "metadata": {
        "id": "8TiWMYTgEo61"
      },
      "source": [
        "## Initial setup"
      ]
    },
    {
      "cell_type": "code",
      "metadata": {
        "id": "CddKDoKdnRwG"
      },
      "source": [
        "!git clone https://github.com/sayakpaul/Adaptive-Gradient-Clipping"
      ],
      "execution_count": null,
      "outputs": []
    },
    {
      "cell_type": "code",
      "metadata": {
        "id": "ELPoejpxnhuc"
      },
      "source": [
        "import sys\n",
        "sys.path.append(\"Adaptive-Gradient-Clipping\")"
      ],
      "execution_count": null,
      "outputs": []
    },
    {
      "cell_type": "code",
      "metadata": {
        "colab": {
          "base_uri": "https://localhost:8080/"
        },
        "id": "qOFh96slJo2S",
        "outputId": "6a294933-4b36-4a60-ecd9-d374ffe87ff1"
      },
      "source": [
        "import tensorflow as tf\n",
        "tf.random.set_seed(42)\n",
        "print(tf.__version__)"
      ],
      "execution_count": null,
      "outputs": [
        {
          "output_type": "stream",
          "text": [
            "2.4.1\n"
          ],
          "name": "stdout"
        }
      ]
    },
    {
      "cell_type": "code",
      "metadata": {
        "colab": {
          "base_uri": "https://localhost:8080/"
        },
        "id": "KIkKqX-Xchf3",
        "outputId": "4615dad7-ea37-4fc7-aaa9-0c20afdea4ec"
      },
      "source": [
        "try: # detect TPUs\n",
        "    tpu = None\n",
        "    tpu = tf.distribute.cluster_resolver.TPUClusterResolver() # TPU detection\n",
        "    tf.config.experimental_connect_to_cluster(tpu)\n",
        "    tf.tpu.experimental.initialize_tpu_system(tpu)\n",
        "    strategy = tf.distribute.experimental.TPUStrategy(tpu)\n",
        "except ValueError: # detect GPUs\n",
        "    strategy = tf.distribute.MirroredStrategy() # for GPU or multi-GPU machines\n",
        "  \n",
        "print(\"Number of accelerators: \", strategy.num_replicas_in_sync)"
      ],
      "execution_count": null,
      "outputs": [
        {
          "output_type": "stream",
          "text": [
            "INFO:tensorflow:Initializing the TPU system: grpc://10.44.200.242:8470\n"
          ],
          "name": "stdout"
        },
        {
          "output_type": "stream",
          "text": [
            "INFO:tensorflow:Initializing the TPU system: grpc://10.44.200.242:8470\n"
          ],
          "name": "stderr"
        },
        {
          "output_type": "stream",
          "text": [
            "INFO:tensorflow:Clearing out eager caches\n"
          ],
          "name": "stdout"
        },
        {
          "output_type": "stream",
          "text": [
            "INFO:tensorflow:Clearing out eager caches\n"
          ],
          "name": "stderr"
        },
        {
          "output_type": "stream",
          "text": [
            "INFO:tensorflow:Finished initializing TPU system.\n"
          ],
          "name": "stdout"
        },
        {
          "output_type": "stream",
          "text": [
            "INFO:tensorflow:Finished initializing TPU system.\n",
            "WARNING:absl:`tf.distribute.experimental.TPUStrategy` is deprecated, please use  the non experimental symbol `tf.distribute.TPUStrategy` instead.\n"
          ],
          "name": "stderr"
        },
        {
          "output_type": "stream",
          "text": [
            "INFO:tensorflow:Found TPU system:\n"
          ],
          "name": "stdout"
        },
        {
          "output_type": "stream",
          "text": [
            "INFO:tensorflow:Found TPU system:\n"
          ],
          "name": "stderr"
        },
        {
          "output_type": "stream",
          "text": [
            "INFO:tensorflow:*** Num TPU Cores: 8\n"
          ],
          "name": "stdout"
        },
        {
          "output_type": "stream",
          "text": [
            "INFO:tensorflow:*** Num TPU Cores: 8\n"
          ],
          "name": "stderr"
        },
        {
          "output_type": "stream",
          "text": [
            "INFO:tensorflow:*** Num TPU Workers: 1\n"
          ],
          "name": "stdout"
        },
        {
          "output_type": "stream",
          "text": [
            "INFO:tensorflow:*** Num TPU Workers: 1\n"
          ],
          "name": "stderr"
        },
        {
          "output_type": "stream",
          "text": [
            "INFO:tensorflow:*** Num TPU Cores Per Worker: 8\n"
          ],
          "name": "stdout"
        },
        {
          "output_type": "stream",
          "text": [
            "INFO:tensorflow:*** Num TPU Cores Per Worker: 8\n"
          ],
          "name": "stderr"
        },
        {
          "output_type": "stream",
          "text": [
            "INFO:tensorflow:*** Available Device: _DeviceAttributes(/job:localhost/replica:0/task:0/device:CPU:0, CPU, 0, 0)\n"
          ],
          "name": "stdout"
        },
        {
          "output_type": "stream",
          "text": [
            "INFO:tensorflow:*** Available Device: _DeviceAttributes(/job:localhost/replica:0/task:0/device:CPU:0, CPU, 0, 0)\n"
          ],
          "name": "stderr"
        },
        {
          "output_type": "stream",
          "text": [
            "INFO:tensorflow:*** Available Device: _DeviceAttributes(/job:worker/replica:0/task:0/device:CPU:0, CPU, 0, 0)\n"
          ],
          "name": "stdout"
        },
        {
          "output_type": "stream",
          "text": [
            "INFO:tensorflow:*** Available Device: _DeviceAttributes(/job:worker/replica:0/task:0/device:CPU:0, CPU, 0, 0)\n"
          ],
          "name": "stderr"
        },
        {
          "output_type": "stream",
          "text": [
            "INFO:tensorflow:*** Available Device: _DeviceAttributes(/job:worker/replica:0/task:0/device:TPU:0, TPU, 0, 0)\n"
          ],
          "name": "stdout"
        },
        {
          "output_type": "stream",
          "text": [
            "INFO:tensorflow:*** Available Device: _DeviceAttributes(/job:worker/replica:0/task:0/device:TPU:0, TPU, 0, 0)\n"
          ],
          "name": "stderr"
        },
        {
          "output_type": "stream",
          "text": [
            "INFO:tensorflow:*** Available Device: _DeviceAttributes(/job:worker/replica:0/task:0/device:TPU:1, TPU, 0, 0)\n"
          ],
          "name": "stdout"
        },
        {
          "output_type": "stream",
          "text": [
            "INFO:tensorflow:*** Available Device: _DeviceAttributes(/job:worker/replica:0/task:0/device:TPU:1, TPU, 0, 0)\n"
          ],
          "name": "stderr"
        },
        {
          "output_type": "stream",
          "text": [
            "INFO:tensorflow:*** Available Device: _DeviceAttributes(/job:worker/replica:0/task:0/device:TPU:2, TPU, 0, 0)\n"
          ],
          "name": "stdout"
        },
        {
          "output_type": "stream",
          "text": [
            "INFO:tensorflow:*** Available Device: _DeviceAttributes(/job:worker/replica:0/task:0/device:TPU:2, TPU, 0, 0)\n"
          ],
          "name": "stderr"
        },
        {
          "output_type": "stream",
          "text": [
            "INFO:tensorflow:*** Available Device: _DeviceAttributes(/job:worker/replica:0/task:0/device:TPU:3, TPU, 0, 0)\n"
          ],
          "name": "stdout"
        },
        {
          "output_type": "stream",
          "text": [
            "INFO:tensorflow:*** Available Device: _DeviceAttributes(/job:worker/replica:0/task:0/device:TPU:3, TPU, 0, 0)\n"
          ],
          "name": "stderr"
        },
        {
          "output_type": "stream",
          "text": [
            "INFO:tensorflow:*** Available Device: _DeviceAttributes(/job:worker/replica:0/task:0/device:TPU:4, TPU, 0, 0)\n"
          ],
          "name": "stdout"
        },
        {
          "output_type": "stream",
          "text": [
            "INFO:tensorflow:*** Available Device: _DeviceAttributes(/job:worker/replica:0/task:0/device:TPU:4, TPU, 0, 0)\n"
          ],
          "name": "stderr"
        },
        {
          "output_type": "stream",
          "text": [
            "INFO:tensorflow:*** Available Device: _DeviceAttributes(/job:worker/replica:0/task:0/device:TPU:5, TPU, 0, 0)\n"
          ],
          "name": "stdout"
        },
        {
          "output_type": "stream",
          "text": [
            "INFO:tensorflow:*** Available Device: _DeviceAttributes(/job:worker/replica:0/task:0/device:TPU:5, TPU, 0, 0)\n"
          ],
          "name": "stderr"
        },
        {
          "output_type": "stream",
          "text": [
            "INFO:tensorflow:*** Available Device: _DeviceAttributes(/job:worker/replica:0/task:0/device:TPU:6, TPU, 0, 0)\n"
          ],
          "name": "stdout"
        },
        {
          "output_type": "stream",
          "text": [
            "INFO:tensorflow:*** Available Device: _DeviceAttributes(/job:worker/replica:0/task:0/device:TPU:6, TPU, 0, 0)\n"
          ],
          "name": "stderr"
        },
        {
          "output_type": "stream",
          "text": [
            "INFO:tensorflow:*** Available Device: _DeviceAttributes(/job:worker/replica:0/task:0/device:TPU:7, TPU, 0, 0)\n"
          ],
          "name": "stdout"
        },
        {
          "output_type": "stream",
          "text": [
            "INFO:tensorflow:*** Available Device: _DeviceAttributes(/job:worker/replica:0/task:0/device:TPU:7, TPU, 0, 0)\n"
          ],
          "name": "stderr"
        },
        {
          "output_type": "stream",
          "text": [
            "INFO:tensorflow:*** Available Device: _DeviceAttributes(/job:worker/replica:0/task:0/device:TPU_SYSTEM:0, TPU_SYSTEM, 0, 0)\n"
          ],
          "name": "stdout"
        },
        {
          "output_type": "stream",
          "text": [
            "INFO:tensorflow:*** Available Device: _DeviceAttributes(/job:worker/replica:0/task:0/device:TPU_SYSTEM:0, TPU_SYSTEM, 0, 0)\n"
          ],
          "name": "stderr"
        },
        {
          "output_type": "stream",
          "text": [
            "INFO:tensorflow:*** Available Device: _DeviceAttributes(/job:worker/replica:0/task:0/device:XLA_CPU:0, XLA_CPU, 0, 0)\n"
          ],
          "name": "stdout"
        },
        {
          "output_type": "stream",
          "text": [
            "INFO:tensorflow:*** Available Device: _DeviceAttributes(/job:worker/replica:0/task:0/device:XLA_CPU:0, XLA_CPU, 0, 0)\n"
          ],
          "name": "stderr"
        },
        {
          "output_type": "stream",
          "text": [
            "Number of accelerators:  8\n"
          ],
          "name": "stdout"
        }
      ]
    },
    {
      "cell_type": "code",
      "metadata": {
        "id": "fs2lvYGjoZ96"
      },
      "source": [
        "import agc\n",
        "import dataloader\n",
        "import models\n",
        "import time\n",
        "import utils"
      ],
      "execution_count": null,
      "outputs": []
    },
    {
      "cell_type": "markdown",
      "metadata": {
        "id": "3eTUh9D4Euj3"
      },
      "source": [
        "## Load flowers dataset"
      ]
    },
    {
      "cell_type": "code",
      "metadata": {
        "colab": {
          "base_uri": "https://localhost:8080/"
        },
        "id": "XvDOYqhrohCd",
        "outputId": "ea69425d-248e-4c4e-8f22-aff52014e26a"
      },
      "source": [
        "BATCH_SIZE = 64 * strategy.num_replicas_in_sync\n",
        "train_filenames, valid_filenames, train_steps = dataloader.create_steps(batch_size=BATCH_SIZE, validation_split=0.15)\n",
        "print(f\"Total training samples: {dataloader.count_data_items(train_filenames)}\")\n",
        "print(f\"Total validation samples: {dataloader.count_data_items(valid_filenames)}\")\n",
        "print(f\"Global batch size: {BATCH_SIZE}\")"
      ],
      "execution_count": null,
      "outputs": [
        {
          "output_type": "stream",
          "text": [
            "Total training samples: 3220\n",
            "Total validation samples: 450\n",
            "Global batch size: 512\n"
          ],
          "name": "stdout"
        }
      ]
    },
    {
      "cell_type": "code",
      "metadata": {
        "colab": {
          "base_uri": "https://localhost:8080/"
        },
        "id": "FNDnkbVRvJYE",
        "outputId": "c792c0df-eca8-48e7-e11b-90204d169d7f"
      },
      "source": [
        "train_ds = dataloader.get_training_dataset(batch_size=BATCH_SIZE, filenames=train_filenames)\n",
        "validation_ds = dataloader.get_validation_dataset(batch_size=BATCH_SIZE, filenames=valid_filenames)\n",
        "samples_images, sample_labels = next(iter(train_ds))\n",
        "print(samples_images.shape, sample_labels.shape)"
      ],
      "execution_count": null,
      "outputs": [
        {
          "output_type": "stream",
          "text": [
            "(512, 96, 96, 3) (512, 5)\n"
          ],
          "name": "stdout"
        }
      ]
    },
    {
      "cell_type": "markdown",
      "metadata": {
        "id": "XgXngaq5ExUp"
      },
      "source": [
        "## Encapsulate AGC logic inside `model.fit`\n",
        "\n",
        "AGC is implemented as follows (taken from ther paper) - \n",
        "$$\n",
        "G_{i}^{\\ell} \\rightarrow\\left\\{\\begin{array}{ll}\n",
        "\\lambda \\frac{\\left\\|W_{i}^{\\ell}\\right\\|_{E}^{\\star}}{\\left\\|G_{i}^{\\ell}\\right\\|_{F}} G_{i}^{\\ell} & \\text { if } \\frac{\\left\\|G_{i}^{\\ell}\\right\\|_{F}}{\\left\\|W_{i}^{\\ell}\\right\\|_{F}^{\\star}}>\\lambda \\\\\n",
        "G_{i}^{\\ell} & \\text { otherwise }\n",
        "\\end{array}\\right.\n",
        "$$\n",
        "\n",
        "where, $\\left\\|W_{i}\\right\\|_{F}^{\\star}=\\max \\left(\\left\\|W_{i}\\right\\|_{F}, \\epsilon\\right)$ and $\\epsilon$ defaults to 1e-3.  "
      ]
    },
    {
      "cell_type": "code",
      "metadata": {
        "id": "n0-rmMSqo94P"
      },
      "source": [
        "class AGCModel(tf.keras.Model):\n",
        "    def __init__(self, mini_vgg, clip_factor=0.01, eps=1e-3):\n",
        "        super(AGCModel, self).__init__()\n",
        "        self.mini_vgg = mini_vgg\n",
        "        self.clip_factor = clip_factor\n",
        "        self.eps = eps\n",
        "    \n",
        "    def train_step(self, data):\n",
        "        images, labels = data\n",
        "\n",
        "        with tf.GradientTape() as tape:\n",
        "            predictions = self.mini_vgg(images)\n",
        "            loss = self.compiled_loss(labels, predictions)\n",
        "        trainable_params = self.mini_vgg.trainable_variables\n",
        "        gradients = tape.gradient(loss, trainable_params)\n",
        "        agc_gradients = agc.adaptive_clip_grad(trainable_params, gradients, \n",
        "                                               clip_factor=self.clip_factor, eps=self.eps)\n",
        "        self.optimizer.apply_gradients(zip(agc_gradients, trainable_params))\n",
        "\n",
        "        self.compiled_metrics.update_state(labels, predictions)\n",
        "        return {m.name: m.result() for m in self.metrics}\n",
        "\n",
        "    def test_step(self, data):\n",
        "        images, labels = data\n",
        "        predictions = self.mini_vgg(images, training=False)\n",
        "        loss = self.compiled_loss(labels, predictions)\n",
        "        self.compiled_metrics.update_state(labels, predictions)\n",
        "        return {m.name: m.result() for m in self.metrics}\n",
        "\n",
        "    def save_weights(self, filepath):\n",
        "        self.mini_vgg.save_weights(filepath=filepath)\n",
        "\n",
        "    def call(self, inputs, *args, **kwargs):\n",
        "        return self.mini_vgg(inputs)"
      ],
      "execution_count": null,
      "outputs": []
    },
    {
      "cell_type": "markdown",
      "metadata": {
        "id": "IELZiqbjHQht"
      },
      "source": [
        "**Note**: `clip_factor` can have been tuned but as per the figure below, for a batch size of 512, `clip_factor=0.01` should be good as a baseline - \n",
        "\n",
        "<center>\n",
        "<img src=\"https://i.ibb.co/wc1qpmt/image.png\"></img><br>\n",
        "<smal>Source: Original Paper</small>\n",
        "</center>"
      ]
    },
    {
      "cell_type": "markdown",
      "metadata": {
        "id": "KsptbXd1E_Iy"
      },
      "source": [
        "## Compile model and define training callbacks"
      ]
    },
    {
      "cell_type": "code",
      "metadata": {
        "colab": {
          "base_uri": "https://localhost:8080/"
        },
        "id": "SQGsCykrtjz0",
        "outputId": "1b100fca-fc66-4b27-81f5-c4d56b15ceb0"
      },
      "source": [
        "with strategy.scope():\n",
        "    model = AGCModel(models.get_mini_vgg(use_bn=False))\n",
        "\n",
        "model.compile(\n",
        "    optimizer=\"adam\", loss=\"categorical_crossentropy\", metrics=[\"accuracy\"]\n",
        ")\n",
        "print(f\"Total learnable parameters: {model.mini_vgg.count_params()/1e6} M\")"
      ],
      "execution_count": null,
      "outputs": [
        {
          "output_type": "stream",
          "text": [
            "Total learnable parameters: 0.002117 M\n"
          ],
          "name": "stdout"
        }
      ]
    },
    {
      "cell_type": "code",
      "metadata": {
        "id": "B6M_Ktx6uWVW"
      },
      "source": [
        "train_callbacks = [\n",
        "    tf.keras.callbacks.EarlyStopping(\n",
        "        monitor=\"val_loss\", patience=10,\n",
        "        restore_best_weights=True\n",
        "    ),\n",
        "    tf.keras.callbacks.ReduceLROnPlateau(\n",
        "        monitor=\"val_loss\", factor=0.5,\n",
        "        patience=3, verbose=1\n",
        "    )\n",
        "]"
      ],
      "execution_count": null,
      "outputs": []
    },
    {
      "cell_type": "markdown",
      "metadata": {
        "id": "RTAJm94KFCqp"
      },
      "source": [
        "## Model training and evaluation"
      ]
    },
    {
      "cell_type": "code",
      "metadata": {
        "colab": {
          "base_uri": "https://localhost:8080/"
        },
        "id": "NiOM0AgKu-vI",
        "outputId": "ad9a024e-fbd4-4439-8421-6b18733d3ac8"
      },
      "source": [
        "start = time.time()\n",
        "history = model.fit(train_ds,\n",
        "                   steps_per_epoch=train_steps,\n",
        "                   validation_data=validation_ds,\n",
        "                   callbacks=train_callbacks,\n",
        "                   epochs=100)\n",
        "print(f\"Total training time: {(time.time() - start)/60.} minutes\")"
      ],
      "execution_count": null,
      "outputs": [
        {
          "output_type": "stream",
          "text": [
            "Epoch 1/100\n",
            "6/6 [==============================] - 8s 837ms/step - loss: 1.7070 - accuracy: 0.2338 - val_loss: 1.6397 - val_accuracy: 0.2733\n",
            "Epoch 2/100\n",
            "6/6 [==============================] - 1s 253ms/step - loss: 1.6289 - accuracy: 0.2337 - val_loss: 1.5997 - val_accuracy: 0.2467\n",
            "Epoch 3/100\n",
            "6/6 [==============================] - 2s 301ms/step - loss: 1.5999 - accuracy: 0.2408 - val_loss: 1.5847 - val_accuracy: 0.2711\n",
            "Epoch 4/100\n",
            "6/6 [==============================] - 1s 276ms/step - loss: 1.5835 - accuracy: 0.2838 - val_loss: 1.5716 - val_accuracy: 0.3022\n",
            "Epoch 5/100\n",
            "6/6 [==============================] - 2s 325ms/step - loss: 1.5762 - accuracy: 0.2916 - val_loss: 1.5565 - val_accuracy: 0.3222\n",
            "Epoch 6/100\n",
            "6/6 [==============================] - 2s 274ms/step - loss: 1.5643 - accuracy: 0.2945 - val_loss: 1.5464 - val_accuracy: 0.3511\n",
            "Epoch 7/100\n",
            "6/6 [==============================] - 1s 277ms/step - loss: 1.5487 - accuracy: 0.3215 - val_loss: 1.5336 - val_accuracy: 0.3800\n",
            "Epoch 8/100\n",
            "6/6 [==============================] - 1s 243ms/step - loss: 1.5367 - accuracy: 0.3255 - val_loss: 1.5163 - val_accuracy: 0.3689\n",
            "Epoch 9/100\n",
            "6/6 [==============================] - 1s 222ms/step - loss: 1.5354 - accuracy: 0.3386 - val_loss: 1.5019 - val_accuracy: 0.3978\n",
            "Epoch 10/100\n",
            "6/6 [==============================] - 1s 236ms/step - loss: 1.5225 - accuracy: 0.3555 - val_loss: 1.4911 - val_accuracy: 0.4467\n",
            "Epoch 11/100\n",
            "6/6 [==============================] - 1s 240ms/step - loss: 1.5111 - accuracy: 0.3681 - val_loss: 1.4894 - val_accuracy: 0.4111\n",
            "Epoch 12/100\n",
            "6/6 [==============================] - 1s 266ms/step - loss: 1.5014 - accuracy: 0.3789 - val_loss: 1.4707 - val_accuracy: 0.4378\n",
            "Epoch 13/100\n",
            "6/6 [==============================] - 1s 268ms/step - loss: 1.4875 - accuracy: 0.3817 - val_loss: 1.4541 - val_accuracy: 0.4600\n",
            "Epoch 14/100\n",
            "6/6 [==============================] - 2s 338ms/step - loss: 1.4901 - accuracy: 0.3971 - val_loss: 1.4473 - val_accuracy: 0.4489\n",
            "Epoch 15/100\n",
            "6/6 [==============================] - 2s 300ms/step - loss: 1.4770 - accuracy: 0.3917 - val_loss: 1.4364 - val_accuracy: 0.4578\n",
            "Epoch 16/100\n",
            "6/6 [==============================] - 2s 308ms/step - loss: 1.4611 - accuracy: 0.3986 - val_loss: 1.4219 - val_accuracy: 0.4533\n",
            "Epoch 17/100\n",
            "6/6 [==============================] - 2s 298ms/step - loss: 1.4616 - accuracy: 0.3835 - val_loss: 1.4146 - val_accuracy: 0.4444\n",
            "Epoch 18/100\n",
            "6/6 [==============================] - 1s 246ms/step - loss: 1.4460 - accuracy: 0.3976 - val_loss: 1.4058 - val_accuracy: 0.4533\n",
            "Epoch 19/100\n",
            "6/6 [==============================] - 1s 272ms/step - loss: 1.4385 - accuracy: 0.4054 - val_loss: 1.3928 - val_accuracy: 0.4533\n",
            "Epoch 20/100\n",
            "6/6 [==============================] - 1s 283ms/step - loss: 1.4276 - accuracy: 0.3974 - val_loss: 1.3865 - val_accuracy: 0.4378\n",
            "Epoch 21/100\n",
            "6/6 [==============================] - 2s 351ms/step - loss: 1.4270 - accuracy: 0.4089 - val_loss: 1.3853 - val_accuracy: 0.4578\n",
            "Epoch 22/100\n",
            "6/6 [==============================] - 2s 299ms/step - loss: 1.4285 - accuracy: 0.4006 - val_loss: 1.3735 - val_accuracy: 0.4511\n",
            "Epoch 23/100\n",
            "6/6 [==============================] - 1s 279ms/step - loss: 1.4202 - accuracy: 0.4060 - val_loss: 1.3628 - val_accuracy: 0.4622\n",
            "Epoch 24/100\n",
            "6/6 [==============================] - 1s 264ms/step - loss: 1.4209 - accuracy: 0.3985 - val_loss: 1.3598 - val_accuracy: 0.4511\n",
            "Epoch 25/100\n",
            "6/6 [==============================] - 1s 260ms/step - loss: 1.4093 - accuracy: 0.4139 - val_loss: 1.3631 - val_accuracy: 0.4533\n",
            "Epoch 26/100\n",
            "6/6 [==============================] - 1s 240ms/step - loss: 1.3986 - accuracy: 0.4177 - val_loss: 1.3494 - val_accuracy: 0.4511\n",
            "Epoch 27/100\n",
            "6/6 [==============================] - 2s 298ms/step - loss: 1.4028 - accuracy: 0.4029 - val_loss: 1.3406 - val_accuracy: 0.4578\n",
            "Epoch 28/100\n",
            "6/6 [==============================] - 2s 295ms/step - loss: 1.4047 - accuracy: 0.3942 - val_loss: 1.3460 - val_accuracy: 0.4467\n",
            "Epoch 29/100\n",
            "6/6 [==============================] - 1s 259ms/step - loss: 1.3962 - accuracy: 0.4226 - val_loss: 1.3377 - val_accuracy: 0.4644\n",
            "Epoch 30/100\n",
            "6/6 [==============================] - 1s 264ms/step - loss: 1.4020 - accuracy: 0.4088 - val_loss: 1.3258 - val_accuracy: 0.4578\n",
            "Epoch 31/100\n",
            "6/6 [==============================] - 1s 267ms/step - loss: 1.3919 - accuracy: 0.4074 - val_loss: 1.3267 - val_accuracy: 0.4667\n",
            "Epoch 32/100\n",
            "6/6 [==============================] - 2s 315ms/step - loss: 1.3834 - accuracy: 0.4297 - val_loss: 1.3186 - val_accuracy: 0.4578\n",
            "Epoch 33/100\n",
            "6/6 [==============================] - 2s 303ms/step - loss: 1.3770 - accuracy: 0.4232 - val_loss: 1.3152 - val_accuracy: 0.4733\n",
            "Epoch 34/100\n",
            "6/6 [==============================] - 1s 277ms/step - loss: 1.3772 - accuracy: 0.4204 - val_loss: 1.3144 - val_accuracy: 0.4667\n",
            "Epoch 35/100\n",
            "6/6 [==============================] - 1s 278ms/step - loss: 1.3686 - accuracy: 0.4289 - val_loss: 1.3132 - val_accuracy: 0.4578\n",
            "Epoch 36/100\n",
            "6/6 [==============================] - 2s 316ms/step - loss: 1.3670 - accuracy: 0.4126 - val_loss: 1.3006 - val_accuracy: 0.4689\n",
            "Epoch 37/100\n",
            "6/6 [==============================] - 2s 312ms/step - loss: 1.3733 - accuracy: 0.4142 - val_loss: 1.3027 - val_accuracy: 0.4644\n",
            "Epoch 38/100\n",
            "6/6 [==============================] - 1s 246ms/step - loss: 1.3669 - accuracy: 0.4210 - val_loss: 1.3013 - val_accuracy: 0.4622\n",
            "Epoch 39/100\n",
            "6/6 [==============================] - 1s 256ms/step - loss: 1.3554 - accuracy: 0.4418 - val_loss: 1.2934 - val_accuracy: 0.4600\n",
            "Epoch 40/100\n",
            "6/6 [==============================] - 1s 247ms/step - loss: 1.3617 - accuracy: 0.4307 - val_loss: 1.2970 - val_accuracy: 0.4733\n",
            "Epoch 41/100\n",
            "6/6 [==============================] - 1s 282ms/step - loss: 1.3602 - accuracy: 0.4395 - val_loss: 1.2904 - val_accuracy: 0.4622\n",
            "Epoch 42/100\n",
            "6/6 [==============================] - 1s 269ms/step - loss: 1.3563 - accuracy: 0.4271 - val_loss: 1.2819 - val_accuracy: 0.4733\n",
            "Epoch 43/100\n",
            "6/6 [==============================] - 2s 364ms/step - loss: 1.3475 - accuracy: 0.4252 - val_loss: 1.2916 - val_accuracy: 0.4733\n",
            "Epoch 44/100\n",
            "6/6 [==============================] - 1s 270ms/step - loss: 1.3395 - accuracy: 0.4559 - val_loss: 1.2860 - val_accuracy: 0.4800\n",
            "Epoch 45/100\n",
            "6/6 [==============================] - 1s 263ms/step - loss: 1.3398 - accuracy: 0.4405 - val_loss: 1.2722 - val_accuracy: 0.4733\n",
            "Epoch 46/100\n",
            "6/6 [==============================] - 2s 312ms/step - loss: 1.3635 - accuracy: 0.4087 - val_loss: 1.2818 - val_accuracy: 0.4689\n",
            "Epoch 47/100\n",
            "6/6 [==============================] - 2s 341ms/step - loss: 1.3402 - accuracy: 0.4569 - val_loss: 1.2814 - val_accuracy: 0.4733\n",
            "Epoch 48/100\n",
            "6/6 [==============================] - 1s 274ms/step - loss: 1.3504 - accuracy: 0.4278 - val_loss: 1.2645 - val_accuracy: 0.4933\n",
            "Epoch 49/100\n",
            "6/6 [==============================] - 1s 263ms/step - loss: 1.3332 - accuracy: 0.4620 - val_loss: 1.2631 - val_accuracy: 0.4756\n",
            "Epoch 50/100\n",
            "6/6 [==============================] - 2s 380ms/step - loss: 1.3425 - accuracy: 0.4336 - val_loss: 1.2739 - val_accuracy: 0.4822\n",
            "Epoch 51/100\n",
            "6/6 [==============================] - 1s 274ms/step - loss: 1.3237 - accuracy: 0.4637 - val_loss: 1.2617 - val_accuracy: 0.4689\n",
            "Epoch 52/100\n",
            "6/6 [==============================] - 1s 258ms/step - loss: 1.3386 - accuracy: 0.4516 - val_loss: 1.2548 - val_accuracy: 0.4867\n",
            "Epoch 53/100\n",
            "6/6 [==============================] - 1s 260ms/step - loss: 1.3118 - accuracy: 0.4487 - val_loss: 1.2652 - val_accuracy: 0.4889\n",
            "Epoch 54/100\n",
            "6/6 [==============================] - 1s 276ms/step - loss: 1.3498 - accuracy: 0.4448 - val_loss: 1.2559 - val_accuracy: 0.4889\n",
            "Epoch 55/100\n",
            "6/6 [==============================] - 1s 262ms/step - loss: 1.3259 - accuracy: 0.4525 - val_loss: 1.2473 - val_accuracy: 0.4911\n",
            "Epoch 56/100\n",
            "6/6 [==============================] - 2s 294ms/step - loss: 1.3107 - accuracy: 0.4491 - val_loss: 1.2553 - val_accuracy: 0.4956\n",
            "Epoch 57/100\n",
            "6/6 [==============================] - 2s 294ms/step - loss: 1.3236 - accuracy: 0.4640 - val_loss: 1.2460 - val_accuracy: 0.4956\n",
            "Epoch 58/100\n",
            "6/6 [==============================] - 1s 286ms/step - loss: 1.3045 - accuracy: 0.4519 - val_loss: 1.2430 - val_accuracy: 0.4956\n",
            "Epoch 59/100\n",
            "6/6 [==============================] - 1s 239ms/step - loss: 1.3208 - accuracy: 0.4545 - val_loss: 1.2439 - val_accuracy: 0.5022\n",
            "Epoch 60/100\n",
            "6/6 [==============================] - 1s 253ms/step - loss: 1.3093 - accuracy: 0.4534 - val_loss: 1.2377 - val_accuracy: 0.4978\n",
            "Epoch 61/100\n",
            "6/6 [==============================] - 2s 304ms/step - loss: 1.3288 - accuracy: 0.4280 - val_loss: 1.2404 - val_accuracy: 0.5000\n",
            "Epoch 62/100\n",
            "6/6 [==============================] - 1s 285ms/step - loss: 1.3190 - accuracy: 0.4600 - val_loss: 1.2453 - val_accuracy: 0.5044\n",
            "Epoch 63/100\n",
            "6/6 [==============================] - 2s 311ms/step - loss: 1.2943 - accuracy: 0.4662 - val_loss: 1.2311 - val_accuracy: 0.5022\n",
            "Epoch 64/100\n",
            "6/6 [==============================] - 1s 272ms/step - loss: 1.3103 - accuracy: 0.4612 - val_loss: 1.2337 - val_accuracy: 0.4933\n",
            "Epoch 65/100\n",
            "6/6 [==============================] - 2s 296ms/step - loss: 1.2935 - accuracy: 0.4645 - val_loss: 1.2255 - val_accuracy: 0.5133\n",
            "Epoch 66/100\n",
            "6/6 [==============================] - 2s 315ms/step - loss: 1.3249 - accuracy: 0.4462 - val_loss: 1.2318 - val_accuracy: 0.5156\n",
            "Epoch 67/100\n",
            "6/6 [==============================] - 2s 305ms/step - loss: 1.2838 - accuracy: 0.4763 - val_loss: 1.2295 - val_accuracy: 0.5133\n",
            "Epoch 68/100\n",
            "6/6 [==============================] - 1s 263ms/step - loss: 1.2994 - accuracy: 0.4743 - val_loss: 1.2212 - val_accuracy: 0.4978\n",
            "Epoch 69/100\n",
            "6/6 [==============================] - 1s 283ms/step - loss: 1.3103 - accuracy: 0.4556 - val_loss: 1.2282 - val_accuracy: 0.5000\n",
            "Epoch 70/100\n",
            "6/6 [==============================] - 1s 243ms/step - loss: 1.3112 - accuracy: 0.4697 - val_loss: 1.2208 - val_accuracy: 0.5133\n",
            "Epoch 71/100\n",
            "6/6 [==============================] - 2s 310ms/step - loss: 1.2979 - accuracy: 0.4609 - val_loss: 1.2196 - val_accuracy: 0.5089\n",
            "Epoch 72/100\n",
            "6/6 [==============================] - 1s 274ms/step - loss: 1.2954 - accuracy: 0.4751 - val_loss: 1.2215 - val_accuracy: 0.5089\n",
            "Epoch 73/100\n",
            "6/6 [==============================] - 1s 277ms/step - loss: 1.2879 - accuracy: 0.4870 - val_loss: 1.2175 - val_accuracy: 0.5044\n",
            "Epoch 74/100\n",
            "6/6 [==============================] - 1s 256ms/step - loss: 1.2929 - accuracy: 0.4815 - val_loss: 1.2128 - val_accuracy: 0.5022\n",
            "Epoch 75/100\n",
            "6/6 [==============================] - 1s 257ms/step - loss: 1.2993 - accuracy: 0.4639 - val_loss: 1.2160 - val_accuracy: 0.5000\n",
            "Epoch 76/100\n",
            "6/6 [==============================] - 1s 256ms/step - loss: 1.2788 - accuracy: 0.4884 - val_loss: 1.2159 - val_accuracy: 0.5111\n",
            "Epoch 77/100\n",
            "6/6 [==============================] - 1s 235ms/step - loss: 1.2973 - accuracy: 0.4592 - val_loss: 1.2044 - val_accuracy: 0.5133\n",
            "Epoch 78/100\n",
            "6/6 [==============================] - 1s 280ms/step - loss: 1.3033 - accuracy: 0.4665 - val_loss: 1.2170 - val_accuracy: 0.5133\n",
            "Epoch 79/100\n",
            "6/6 [==============================] - 1s 233ms/step - loss: 1.2858 - accuracy: 0.4952 - val_loss: 1.2096 - val_accuracy: 0.5200\n",
            "Epoch 80/100\n",
            "6/6 [==============================] - 1s 228ms/step - loss: 1.2755 - accuracy: 0.4658 - val_loss: 1.2003 - val_accuracy: 0.5222\n",
            "Epoch 81/100\n",
            "6/6 [==============================] - 1s 230ms/step - loss: 1.2740 - accuracy: 0.4793 - val_loss: 1.2152 - val_accuracy: 0.5067\n",
            "Epoch 82/100\n",
            "6/6 [==============================] - 1s 280ms/step - loss: 1.2918 - accuracy: 0.4785 - val_loss: 1.2007 - val_accuracy: 0.5133\n",
            "Epoch 83/100\n",
            "6/6 [==============================] - 1s 253ms/step - loss: 1.2768 - accuracy: 0.4656 - val_loss: 1.2037 - val_accuracy: 0.5111\n",
            "\n",
            "Epoch 00083: ReduceLROnPlateau reducing learning rate to 0.0005000000237487257.\n",
            "Epoch 84/100\n",
            "6/6 [==============================] - 1s 272ms/step - loss: 1.2700 - accuracy: 0.4963 - val_loss: 1.2000 - val_accuracy: 0.5067\n",
            "Epoch 85/100\n",
            "6/6 [==============================] - 1s 246ms/step - loss: 1.2904 - accuracy: 0.4784 - val_loss: 1.1990 - val_accuracy: 0.5222\n",
            "Epoch 86/100\n",
            "6/6 [==============================] - 2s 308ms/step - loss: 1.2685 - accuracy: 0.4798 - val_loss: 1.2015 - val_accuracy: 0.5156\n",
            "Epoch 87/100\n",
            "6/6 [==============================] - 1s 248ms/step - loss: 1.2802 - accuracy: 0.4825 - val_loss: 1.1989 - val_accuracy: 0.5178\n",
            "Epoch 88/100\n",
            "6/6 [==============================] - 1s 274ms/step - loss: 1.2860 - accuracy: 0.4873 - val_loss: 1.1988 - val_accuracy: 0.5222\n",
            "Epoch 89/100\n",
            "6/6 [==============================] - 2s 305ms/step - loss: 1.2810 - accuracy: 0.4686 - val_loss: 1.1980 - val_accuracy: 0.5156\n",
            "Epoch 90/100\n",
            "6/6 [==============================] - 1s 261ms/step - loss: 1.2642 - accuracy: 0.4900 - val_loss: 1.1947 - val_accuracy: 0.5200\n",
            "Epoch 91/100\n",
            "6/6 [==============================] - 2s 303ms/step - loss: 1.2713 - accuracy: 0.4731 - val_loss: 1.1948 - val_accuracy: 0.5156\n",
            "Epoch 92/100\n",
            "6/6 [==============================] - 1s 287ms/step - loss: 1.2501 - accuracy: 0.5026 - val_loss: 1.1984 - val_accuracy: 0.5156\n",
            "Epoch 93/100\n",
            "6/6 [==============================] - 2s 355ms/step - loss: 1.2998 - accuracy: 0.4825 - val_loss: 1.1964 - val_accuracy: 0.5133\n",
            "\n",
            "Epoch 00093: ReduceLROnPlateau reducing learning rate to 0.0002500000118743628.\n",
            "Epoch 94/100\n",
            "6/6 [==============================] - 1s 248ms/step - loss: 1.2854 - accuracy: 0.4696 - val_loss: 1.1936 - val_accuracy: 0.5133\n",
            "Epoch 95/100\n",
            "6/6 [==============================] - 1s 266ms/step - loss: 1.2749 - accuracy: 0.4881 - val_loss: 1.1923 - val_accuracy: 0.5178\n",
            "Epoch 96/100\n",
            "6/6 [==============================] - 1s 225ms/step - loss: 1.2689 - accuracy: 0.4753 - val_loss: 1.1934 - val_accuracy: 0.5222\n",
            "Epoch 97/100\n",
            "6/6 [==============================] - 1s 277ms/step - loss: 1.2585 - accuracy: 0.4950 - val_loss: 1.1937 - val_accuracy: 0.5133\n",
            "Epoch 98/100\n",
            "6/6 [==============================] - 1s 266ms/step - loss: 1.2848 - accuracy: 0.4838 - val_loss: 1.1948 - val_accuracy: 0.5200\n",
            "\n",
            "Epoch 00098: ReduceLROnPlateau reducing learning rate to 0.0001250000059371814.\n",
            "Epoch 99/100\n",
            "6/6 [==============================] - 1s 289ms/step - loss: 1.2619 - accuracy: 0.4926 - val_loss: 1.1953 - val_accuracy: 0.5222\n",
            "Epoch 100/100\n",
            "6/6 [==============================] - 1s 239ms/step - loss: 1.2742 - accuracy: 0.4858 - val_loss: 1.1943 - val_accuracy: 0.5200\n",
            "Total training time: 2.614597427845001 minutes\n"
          ],
          "name": "stdout"
        }
      ]
    },
    {
      "cell_type": "code",
      "metadata": {
        "colab": {
          "base_uri": "https://localhost:8080/",
          "height": 299
        },
        "id": "8_2B2nfe-_5a",
        "outputId": "a64dd55e-118e-4405-8f51-901ce18abcbb"
      },
      "source": [
        "utils.plot_history(history)\n",
        "_, accuracy = model.evaluate(validation_ds)\n",
        "print(\"Validation accuracy: {:.2f}%\".format(accuracy*100))"
      ],
      "execution_count": null,
      "outputs": [
        {
          "output_type": "display_data",
          "data": {
            "image/png": "[encoded data removed]",
            "text/plain": [
              "<Figure size 432x288 with 1 Axes>"
            ]
          },
          "metadata": {
            "tags": [],
            "needs_background": "light"
          }
        },
        {
          "output_type": "stream",
          "text": [
            "1/1 [==============================] - 1s 1s/step - loss: 1.1943 - accuracy: 0.5200\n",
            "Validation accuracy: 52.00%\n"
          ],
          "name": "stdout"
        }
      ]
    },
    {
      "cell_type": "markdown",
      "metadata": {
        "id": "foQ5iYufH8_3"
      },
      "source": [
        "Kindly keep in mind that the network is relatively very shallow."
      ]
    }
  ]
}