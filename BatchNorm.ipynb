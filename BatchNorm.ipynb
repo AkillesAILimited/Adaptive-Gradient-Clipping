{
  "nbformat": 4,
  "nbformat_minor": 0,
  "metadata": {
    "colab": {
      "name": "BatchNorm.ipynb",
      "provenance": [],
      "authorship_tag": "ABX9TyOs/sgkEPwlZ01EQffa8tHs",
      "include_colab_link": true
    },
    "kernelspec": {
      "name": "python3",
      "display_name": "Python 3"
    },
    "accelerator": "TPU"
  },
  "cells": [
    {
      "cell_type": "markdown",
      "metadata": {
        "id": "view-in-github",
        "colab_type": "text"
      },
      "source": [
        "<a href=\"https://colab.research.google.com/github/sayakpaul/Adaptive-Gradient-Clipping/blob/main/BatchNorm.ipynb\" target=\"_parent\"><img src=\"https://colab.research.google.com/assets/colab-badge.svg\" alt=\"Open In Colab\"/></a>"
      ]
    },
    {
      "cell_type": "markdown",
      "metadata": {
        "id": "8TiWMYTgEo61"
      },
      "source": [
        "## Initial setup"
      ]
    },
    {
      "cell_type": "code",
      "metadata": {
        "id": "CddKDoKdnRwG"
      },
      "source": [
        "!git clone https://github.com/sayakpaul/Adaptive-Gradient-Clipping"
      ],
      "execution_count": null,
      "outputs": []
    },
    {
      "cell_type": "code",
      "metadata": {
        "id": "ELPoejpxnhuc"
      },
      "source": [
        "import sys\n",
        "sys.path.append(\"Adaptive-Gradient-Clipping\")"
      ],
      "execution_count": null,
      "outputs": []
    },
    {
      "cell_type": "code",
      "metadata": {
        "colab": {
          "base_uri": "https://localhost:8080/"
        },
        "id": "qOFh96slJo2S",
        "outputId": "3c4022af-84b4-4bec-ee9d-5a7be1b7ab48"
      },
      "source": [
        "import tensorflow as tf\n",
        "tf.random.set_seed(42)\n",
        "print(tf.__version__)"
      ],
      "execution_count": null,
      "outputs": [
        {
          "output_type": "stream",
          "text": [
            "2.4.1\n"
          ],
          "name": "stdout"
        }
      ]
    },
    {
      "cell_type": "code",
      "metadata": {
        "colab": {
          "base_uri": "https://localhost:8080/"
        },
        "id": "KIkKqX-Xchf3",
        "outputId": "fc921a38-d5e1-4aa8-f022-af56756f41a0"
      },
      "source": [
        "try: # detect TPUs\n",
        "    tpu = None\n",
        "    tpu = tf.distribute.cluster_resolver.TPUClusterResolver() # TPU detection\n",
        "    tf.config.experimental_connect_to_cluster(tpu)\n",
        "    tf.tpu.experimental.initialize_tpu_system(tpu)\n",
        "    strategy = tf.distribute.experimental.TPUStrategy(tpu)\n",
        "except ValueError: # detect GPUs\n",
        "    strategy = tf.distribute.MirroredStrategy() # for GPU or multi-GPU machines\n",
        "  \n",
        "print(\"Number of accelerators: \", strategy.num_replicas_in_sync)"
      ],
      "execution_count": null,
      "outputs": [
        {
          "output_type": "stream",
          "text": [
            "INFO:tensorflow:Initializing the TPU system: grpc://10.119.76.146:8470\n"
          ],
          "name": "stdout"
        },
        {
          "output_type": "stream",
          "text": [
            "INFO:tensorflow:Initializing the TPU system: grpc://10.119.76.146:8470\n"
          ],
          "name": "stderr"
        },
        {
          "output_type": "stream",
          "text": [
            "INFO:tensorflow:Clearing out eager caches\n"
          ],
          "name": "stdout"
        },
        {
          "output_type": "stream",
          "text": [
            "INFO:tensorflow:Clearing out eager caches\n"
          ],
          "name": "stderr"
        },
        {
          "output_type": "stream",
          "text": [
            "INFO:tensorflow:Finished initializing TPU system.\n"
          ],
          "name": "stdout"
        },
        {
          "output_type": "stream",
          "text": [
            "INFO:tensorflow:Finished initializing TPU system.\n",
            "WARNING:absl:`tf.distribute.experimental.TPUStrategy` is deprecated, please use  the non experimental symbol `tf.distribute.TPUStrategy` instead.\n"
          ],
          "name": "stderr"
        },
        {
          "output_type": "stream",
          "text": [
            "INFO:tensorflow:Found TPU system:\n"
          ],
          "name": "stdout"
        },
        {
          "output_type": "stream",
          "text": [
            "INFO:tensorflow:Found TPU system:\n"
          ],
          "name": "stderr"
        },
        {
          "output_type": "stream",
          "text": [
            "INFO:tensorflow:*** Num TPU Cores: 8\n"
          ],
          "name": "stdout"
        },
        {
          "output_type": "stream",
          "text": [
            "INFO:tensorflow:*** Num TPU Cores: 8\n"
          ],
          "name": "stderr"
        },
        {
          "output_type": "stream",
          "text": [
            "INFO:tensorflow:*** Num TPU Workers: 1\n"
          ],
          "name": "stdout"
        },
        {
          "output_type": "stream",
          "text": [
            "INFO:tensorflow:*** Num TPU Workers: 1\n"
          ],
          "name": "stderr"
        },
        {
          "output_type": "stream",
          "text": [
            "INFO:tensorflow:*** Num TPU Cores Per Worker: 8\n"
          ],
          "name": "stdout"
        },
        {
          "output_type": "stream",
          "text": [
            "INFO:tensorflow:*** Num TPU Cores Per Worker: 8\n"
          ],
          "name": "stderr"
        },
        {
          "output_type": "stream",
          "text": [
            "INFO:tensorflow:*** Available Device: _DeviceAttributes(/job:localhost/replica:0/task:0/device:CPU:0, CPU, 0, 0)\n"
          ],
          "name": "stdout"
        },
        {
          "output_type": "stream",
          "text": [
            "INFO:tensorflow:*** Available Device: _DeviceAttributes(/job:localhost/replica:0/task:0/device:CPU:0, CPU, 0, 0)\n"
          ],
          "name": "stderr"
        },
        {
          "output_type": "stream",
          "text": [
            "INFO:tensorflow:*** Available Device: _DeviceAttributes(/job:worker/replica:0/task:0/device:CPU:0, CPU, 0, 0)\n"
          ],
          "name": "stdout"
        },
        {
          "output_type": "stream",
          "text": [
            "INFO:tensorflow:*** Available Device: _DeviceAttributes(/job:worker/replica:0/task:0/device:CPU:0, CPU, 0, 0)\n"
          ],
          "name": "stderr"
        },
        {
          "output_type": "stream",
          "text": [
            "INFO:tensorflow:*** Available Device: _DeviceAttributes(/job:worker/replica:0/task:0/device:TPU:0, TPU, 0, 0)\n"
          ],
          "name": "stdout"
        },
        {
          "output_type": "stream",
          "text": [
            "INFO:tensorflow:*** Available Device: _DeviceAttributes(/job:worker/replica:0/task:0/device:TPU:0, TPU, 0, 0)\n"
          ],
          "name": "stderr"
        },
        {
          "output_type": "stream",
          "text": [
            "INFO:tensorflow:*** Available Device: _DeviceAttributes(/job:worker/replica:0/task:0/device:TPU:1, TPU, 0, 0)\n"
          ],
          "name": "stdout"
        },
        {
          "output_type": "stream",
          "text": [
            "INFO:tensorflow:*** Available Device: _DeviceAttributes(/job:worker/replica:0/task:0/device:TPU:1, TPU, 0, 0)\n"
          ],
          "name": "stderr"
        },
        {
          "output_type": "stream",
          "text": [
            "INFO:tensorflow:*** Available Device: _DeviceAttributes(/job:worker/replica:0/task:0/device:TPU:2, TPU, 0, 0)\n"
          ],
          "name": "stdout"
        },
        {
          "output_type": "stream",
          "text": [
            "INFO:tensorflow:*** Available Device: _DeviceAttributes(/job:worker/replica:0/task:0/device:TPU:2, TPU, 0, 0)\n"
          ],
          "name": "stderr"
        },
        {
          "output_type": "stream",
          "text": [
            "INFO:tensorflow:*** Available Device: _DeviceAttributes(/job:worker/replica:0/task:0/device:TPU:3, TPU, 0, 0)\n"
          ],
          "name": "stdout"
        },
        {
          "output_type": "stream",
          "text": [
            "INFO:tensorflow:*** Available Device: _DeviceAttributes(/job:worker/replica:0/task:0/device:TPU:3, TPU, 0, 0)\n"
          ],
          "name": "stderr"
        },
        {
          "output_type": "stream",
          "text": [
            "INFO:tensorflow:*** Available Device: _DeviceAttributes(/job:worker/replica:0/task:0/device:TPU:4, TPU, 0, 0)\n"
          ],
          "name": "stdout"
        },
        {
          "output_type": "stream",
          "text": [
            "INFO:tensorflow:*** Available Device: _DeviceAttributes(/job:worker/replica:0/task:0/device:TPU:4, TPU, 0, 0)\n"
          ],
          "name": "stderr"
        },
        {
          "output_type": "stream",
          "text": [
            "INFO:tensorflow:*** Available Device: _DeviceAttributes(/job:worker/replica:0/task:0/device:TPU:5, TPU, 0, 0)\n"
          ],
          "name": "stdout"
        },
        {
          "output_type": "stream",
          "text": [
            "INFO:tensorflow:*** Available Device: _DeviceAttributes(/job:worker/replica:0/task:0/device:TPU:5, TPU, 0, 0)\n"
          ],
          "name": "stderr"
        },
        {
          "output_type": "stream",
          "text": [
            "INFO:tensorflow:*** Available Device: _DeviceAttributes(/job:worker/replica:0/task:0/device:TPU:6, TPU, 0, 0)\n"
          ],
          "name": "stdout"
        },
        {
          "output_type": "stream",
          "text": [
            "INFO:tensorflow:*** Available Device: _DeviceAttributes(/job:worker/replica:0/task:0/device:TPU:6, TPU, 0, 0)\n"
          ],
          "name": "stderr"
        },
        {
          "output_type": "stream",
          "text": [
            "INFO:tensorflow:*** Available Device: _DeviceAttributes(/job:worker/replica:0/task:0/device:TPU:7, TPU, 0, 0)\n"
          ],
          "name": "stdout"
        },
        {
          "output_type": "stream",
          "text": [
            "INFO:tensorflow:*** Available Device: _DeviceAttributes(/job:worker/replica:0/task:0/device:TPU:7, TPU, 0, 0)\n"
          ],
          "name": "stderr"
        },
        {
          "output_type": "stream",
          "text": [
            "INFO:tensorflow:*** Available Device: _DeviceAttributes(/job:worker/replica:0/task:0/device:TPU_SYSTEM:0, TPU_SYSTEM, 0, 0)\n"
          ],
          "name": "stdout"
        },
        {
          "output_type": "stream",
          "text": [
            "INFO:tensorflow:*** Available Device: _DeviceAttributes(/job:worker/replica:0/task:0/device:TPU_SYSTEM:0, TPU_SYSTEM, 0, 0)\n"
          ],
          "name": "stderr"
        },
        {
          "output_type": "stream",
          "text": [
            "INFO:tensorflow:*** Available Device: _DeviceAttributes(/job:worker/replica:0/task:0/device:XLA_CPU:0, XLA_CPU, 0, 0)\n"
          ],
          "name": "stdout"
        },
        {
          "output_type": "stream",
          "text": [
            "INFO:tensorflow:*** Available Device: _DeviceAttributes(/job:worker/replica:0/task:0/device:XLA_CPU:0, XLA_CPU, 0, 0)\n"
          ],
          "name": "stderr"
        },
        {
          "output_type": "stream",
          "text": [
            "Number of accelerators:  8\n"
          ],
          "name": "stdout"
        }
      ]
    },
    {
      "cell_type": "code",
      "metadata": {
        "id": "fs2lvYGjoZ96"
      },
      "source": [
        "import agc\n",
        "import dataloader\n",
        "import models\n",
        "import time\n",
        "import utils"
      ],
      "execution_count": null,
      "outputs": []
    },
    {
      "cell_type": "markdown",
      "metadata": {
        "id": "3eTUh9D4Euj3"
      },
      "source": [
        "## Load flowers dataset"
      ]
    },
    {
      "cell_type": "code",
      "metadata": {
        "colab": {
          "base_uri": "https://localhost:8080/"
        },
        "id": "XvDOYqhrohCd",
        "outputId": "d3181fca-e82b-4ef0-9bce-cf44be60cac2"
      },
      "source": [
        "BATCH_SIZE = 64 * strategy.num_replicas_in_sync\n",
        "train_filenames, valid_filenames, train_steps = dataloader.create_steps(batch_size=BATCH_SIZE, validation_split=0.15)\n",
        "print(f\"Total training samples: {dataloader.count_data_items(train_filenames)}\")\n",
        "print(f\"Total validation samples: {dataloader.count_data_items(valid_filenames)}\")\n",
        "print(f\"Global batch size: {BATCH_SIZE}\")"
      ],
      "execution_count": null,
      "outputs": [
        {
          "output_type": "stream",
          "text": [
            "Total training samples: 3220\n",
            "Total validation samples: 450\n",
            "Global batch size: 512\n"
          ],
          "name": "stdout"
        }
      ]
    },
    {
      "cell_type": "code",
      "metadata": {
        "colab": {
          "base_uri": "https://localhost:8080/"
        },
        "id": "FNDnkbVRvJYE",
        "outputId": "5d375651-47f3-4439-ebca-b445bc6326f1"
      },
      "source": [
        "train_ds = dataloader.get_training_dataset(batch_size=BATCH_SIZE, filenames=train_filenames)\n",
        "validation_ds = dataloader.get_validation_dataset(batch_size=BATCH_SIZE, filenames=valid_filenames)\n",
        "samples_images, sample_labels = next(iter(train_ds))\n",
        "print(samples_images.shape, sample_labels.shape)"
      ],
      "execution_count": null,
      "outputs": [
        {
          "output_type": "stream",
          "text": [
            "(512, 96, 96, 3) (512, 5)\n"
          ],
          "name": "stdout"
        }
      ]
    },
    {
      "cell_type": "markdown",
      "metadata": {
        "id": "KsptbXd1E_Iy"
      },
      "source": [
        "## Compile model and define training callbacks"
      ]
    },
    {
      "cell_type": "code",
      "metadata": {
        "colab": {
          "base_uri": "https://localhost:8080/"
        },
        "id": "SQGsCykrtjz0",
        "outputId": "f0a824dc-9b8b-42a7-9deb-1ce6f4835737"
      },
      "source": [
        "with strategy.scope():\n",
        "    model = models.get_mini_vgg(use_bn=True)\n",
        "\n",
        "model.compile(\n",
        "    optimizer=\"adam\", loss=\"categorical_crossentropy\", metrics=[\"accuracy\"]\n",
        ")\n",
        "print(f\"Total learnable parameters: {model.count_params()/1e6} M\")"
      ],
      "execution_count": null,
      "outputs": [
        {
          "output_type": "stream",
          "text": [
            "Total learnable parameters: 0.002309 M\n"
          ],
          "name": "stdout"
        }
      ]
    },
    {
      "cell_type": "code",
      "metadata": {
        "id": "B6M_Ktx6uWVW"
      },
      "source": [
        "train_callbacks = [\n",
        "    tf.keras.callbacks.EarlyStopping(\n",
        "        monitor=\"val_loss\", patience=10,\n",
        "        restore_best_weights=True\n",
        "    ),\n",
        "    tf.keras.callbacks.ReduceLROnPlateau(\n",
        "        monitor=\"val_loss\", factor=0.5,\n",
        "        patience=3, verbose=1\n",
        "    )\n",
        "]"
      ],
      "execution_count": null,
      "outputs": []
    },
    {
      "cell_type": "markdown",
      "metadata": {
        "id": "RTAJm94KFCqp"
      },
      "source": [
        "## Model training and evaluation"
      ]
    },
    {
      "cell_type": "code",
      "metadata": {
        "colab": {
          "base_uri": "https://localhost:8080/"
        },
        "id": "NiOM0AgKu-vI",
        "outputId": "22f9575e-231d-4f33-cf10-64c4b803ac91"
      },
      "source": [
        "start = time.time()\n",
        "history = model.fit(train_ds,\n",
        "                   steps_per_epoch=train_steps,\n",
        "                   validation_data=validation_ds,\n",
        "                   callbacks=train_callbacks,\n",
        "                   epochs=100)\n",
        "print(f\"Total training time: {(time.time() - start)/60.} minutes\")"
      ],
      "execution_count": null,
      "outputs": [
        {
          "output_type": "stream",
          "text": [
            "Epoch 1/100\n",
            "6/6 [==============================] - 9s 864ms/step - loss: 1.5665 - accuracy: 0.2829 - val_loss: 1.5927 - val_accuracy: 0.2511\n",
            "Epoch 2/100\n",
            "6/6 [==============================] - 1s 262ms/step - loss: 1.4638 - accuracy: 0.3657 - val_loss: 1.5902 - val_accuracy: 0.3000\n",
            "Epoch 3/100\n",
            "6/6 [==============================] - 1s 280ms/step - loss: 1.4180 - accuracy: 0.3864 - val_loss: 1.5819 - val_accuracy: 0.3333\n",
            "Epoch 4/100\n",
            "6/6 [==============================] - 1s 264ms/step - loss: 1.3803 - accuracy: 0.4094 - val_loss: 1.5709 - val_accuracy: 0.3467\n",
            "Epoch 5/100\n",
            "6/6 [==============================] - 1s 256ms/step - loss: 1.3755 - accuracy: 0.4103 - val_loss: 1.5629 - val_accuracy: 0.3267\n",
            "Epoch 6/100\n",
            "6/6 [==============================] - 1s 254ms/step - loss: 1.3386 - accuracy: 0.4388 - val_loss: 1.5578 - val_accuracy: 0.3133\n",
            "Epoch 7/100\n",
            "6/6 [==============================] - 2s 322ms/step - loss: 1.3640 - accuracy: 0.4132 - val_loss: 1.5533 - val_accuracy: 0.3311\n",
            "Epoch 8/100\n",
            "6/6 [==============================] - 2s 335ms/step - loss: 1.3303 - accuracy: 0.4615 - val_loss: 1.5463 - val_accuracy: 0.3244\n",
            "Epoch 9/100\n",
            "6/6 [==============================] - 1s 266ms/step - loss: 1.3262 - accuracy: 0.4515 - val_loss: 1.5440 - val_accuracy: 0.3000\n",
            "Epoch 10/100\n",
            "6/6 [==============================] - 1s 291ms/step - loss: 1.3132 - accuracy: 0.4650 - val_loss: 1.5408 - val_accuracy: 0.3000\n",
            "Epoch 11/100\n",
            "6/6 [==============================] - 2s 319ms/step - loss: 1.2866 - accuracy: 0.4790 - val_loss: 1.5339 - val_accuracy: 0.3133\n",
            "Epoch 12/100\n",
            "6/6 [==============================] - 2s 292ms/step - loss: 1.2935 - accuracy: 0.4715 - val_loss: 1.5311 - val_accuracy: 0.3111\n",
            "Epoch 13/100\n",
            "6/6 [==============================] - 1s 271ms/step - loss: 1.3061 - accuracy: 0.4721 - val_loss: 1.5289 - val_accuracy: 0.3133\n",
            "Epoch 14/100\n",
            "6/6 [==============================] - 1s 281ms/step - loss: 1.3019 - accuracy: 0.4668 - val_loss: 1.5209 - val_accuracy: 0.3200\n",
            "Epoch 15/100\n",
            "6/6 [==============================] - 1s 260ms/step - loss: 1.2740 - accuracy: 0.4745 - val_loss: 1.5211 - val_accuracy: 0.3156\n",
            "Epoch 16/100\n",
            "6/6 [==============================] - 1s 256ms/step - loss: 1.2917 - accuracy: 0.4813 - val_loss: 1.5171 - val_accuracy: 0.3133\n",
            "Epoch 17/100\n",
            "6/6 [==============================] - 1s 245ms/step - loss: 1.2727 - accuracy: 0.4762 - val_loss: 1.5173 - val_accuracy: 0.3311\n",
            "Epoch 18/100\n",
            "6/6 [==============================] - 1s 281ms/step - loss: 1.2829 - accuracy: 0.4892 - val_loss: 1.5187 - val_accuracy: 0.3178\n",
            "Epoch 19/100\n",
            "6/6 [==============================] - 1s 283ms/step - loss: 1.2712 - accuracy: 0.4937 - val_loss: 1.5151 - val_accuracy: 0.3178\n",
            "Epoch 20/100\n",
            "6/6 [==============================] - 2s 312ms/step - loss: 1.2631 - accuracy: 0.5040 - val_loss: 1.5038 - val_accuracy: 0.3244\n",
            "Epoch 21/100\n",
            "6/6 [==============================] - 2s 332ms/step - loss: 1.2666 - accuracy: 0.4927 - val_loss: 1.5098 - val_accuracy: 0.3089\n",
            "Epoch 22/100\n",
            "6/6 [==============================] - 1s 268ms/step - loss: 1.2620 - accuracy: 0.5069 - val_loss: 1.5118 - val_accuracy: 0.3133\n",
            "Epoch 23/100\n",
            "6/6 [==============================] - 1s 265ms/step - loss: 1.2615 - accuracy: 0.4923 - val_loss: 1.5030 - val_accuracy: 0.3222\n",
            "Epoch 24/100\n",
            "6/6 [==============================] - 1s 260ms/step - loss: 1.2311 - accuracy: 0.5151 - val_loss: 1.4965 - val_accuracy: 0.3267\n",
            "Epoch 25/100\n",
            "6/6 [==============================] - 1s 270ms/step - loss: 1.2651 - accuracy: 0.5053 - val_loss: 1.5021 - val_accuracy: 0.3200\n",
            "Epoch 26/100\n",
            "6/6 [==============================] - 1s 270ms/step - loss: 1.2493 - accuracy: 0.4963 - val_loss: 1.4972 - val_accuracy: 0.3178\n",
            "Epoch 27/100\n",
            "6/6 [==============================] - 2s 322ms/step - loss: 1.2473 - accuracy: 0.5295 - val_loss: 1.4968 - val_accuracy: 0.3200\n",
            "\n",
            "Epoch 00027: ReduceLROnPlateau reducing learning rate to 0.0005000000237487257.\n",
            "Epoch 28/100\n",
            "6/6 [==============================] - 1s 289ms/step - loss: 1.2594 - accuracy: 0.5281 - val_loss: 1.4895 - val_accuracy: 0.3200\n",
            "Epoch 29/100\n",
            "6/6 [==============================] - 2s 302ms/step - loss: 1.2236 - accuracy: 0.5269 - val_loss: 1.4842 - val_accuracy: 0.3267\n",
            "Epoch 30/100\n",
            "6/6 [==============================] - 2s 335ms/step - loss: 1.2528 - accuracy: 0.5005 - val_loss: 1.4913 - val_accuracy: 0.3111\n",
            "Epoch 31/100\n",
            "6/6 [==============================] - 2s 318ms/step - loss: 1.2542 - accuracy: 0.5121 - val_loss: 1.4891 - val_accuracy: 0.3156\n",
            "Epoch 32/100\n",
            "6/6 [==============================] - 2s 307ms/step - loss: 1.2364 - accuracy: 0.5345 - val_loss: 1.4814 - val_accuracy: 0.3200\n",
            "Epoch 33/100\n",
            "6/6 [==============================] - 1s 253ms/step - loss: 1.2350 - accuracy: 0.5188 - val_loss: 1.4758 - val_accuracy: 0.3267\n",
            "Epoch 34/100\n",
            "6/6 [==============================] - 1s 272ms/step - loss: 1.2442 - accuracy: 0.5269 - val_loss: 1.4793 - val_accuracy: 0.3222\n",
            "Epoch 35/100\n",
            "6/6 [==============================] - 2s 300ms/step - loss: 1.2129 - accuracy: 0.5371 - val_loss: 1.4776 - val_accuracy: 0.3200\n",
            "Epoch 36/100\n",
            "6/6 [==============================] - 1s 244ms/step - loss: 1.2285 - accuracy: 0.5324 - val_loss: 1.4755 - val_accuracy: 0.3267\n",
            "Epoch 37/100\n",
            "6/6 [==============================] - 1s 253ms/step - loss: 1.2242 - accuracy: 0.5225 - val_loss: 1.4697 - val_accuracy: 0.3311\n",
            "Epoch 38/100\n",
            "6/6 [==============================] - 1s 251ms/step - loss: 1.2262 - accuracy: 0.5336 - val_loss: 1.4635 - val_accuracy: 0.3444\n",
            "Epoch 39/100\n",
            "6/6 [==============================] - 1s 250ms/step - loss: 1.2051 - accuracy: 0.5524 - val_loss: 1.4732 - val_accuracy: 0.3222\n",
            "Epoch 40/100\n",
            "6/6 [==============================] - 2s 313ms/step - loss: 1.1994 - accuracy: 0.5437 - val_loss: 1.4739 - val_accuracy: 0.3222\n",
            "Epoch 41/100\n",
            "6/6 [==============================] - 1s 255ms/step - loss: 1.2219 - accuracy: 0.5293 - val_loss: 1.4659 - val_accuracy: 0.3356\n",
            "\n",
            "Epoch 00041: ReduceLROnPlateau reducing learning rate to 0.0002500000118743628.\n",
            "Epoch 42/100\n",
            "6/6 [==============================] - 2s 303ms/step - loss: 1.2274 - accuracy: 0.5236 - val_loss: 1.4660 - val_accuracy: 0.3311\n",
            "Epoch 43/100\n",
            "6/6 [==============================] - 1s 285ms/step - loss: 1.2057 - accuracy: 0.5447 - val_loss: 1.4644 - val_accuracy: 0.3289\n",
            "Epoch 44/100\n",
            "6/6 [==============================] - 2s 317ms/step - loss: 1.2001 - accuracy: 0.5478 - val_loss: 1.4568 - val_accuracy: 0.3333\n",
            "Epoch 45/100\n",
            "6/6 [==============================] - 1s 269ms/step - loss: 1.2259 - accuracy: 0.5335 - val_loss: 1.4511 - val_accuracy: 0.3378\n",
            "Epoch 46/100\n",
            "6/6 [==============================] - 1s 261ms/step - loss: 1.1982 - accuracy: 0.5577 - val_loss: 1.4503 - val_accuracy: 0.3444\n",
            "Epoch 47/100\n",
            "6/6 [==============================] - 1s 252ms/step - loss: 1.2266 - accuracy: 0.5408 - val_loss: 1.4433 - val_accuracy: 0.3444\n",
            "Epoch 48/100\n",
            "6/6 [==============================] - 2s 336ms/step - loss: 1.2202 - accuracy: 0.5555 - val_loss: 1.4363 - val_accuracy: 0.3489\n",
            "Epoch 49/100\n",
            "6/6 [==============================] - 1s 237ms/step - loss: 1.1971 - accuracy: 0.5467 - val_loss: 1.4327 - val_accuracy: 0.3444\n",
            "Epoch 50/100\n",
            "6/6 [==============================] - 1s 238ms/step - loss: 1.2122 - accuracy: 0.5407 - val_loss: 1.4319 - val_accuracy: 0.3444\n",
            "Epoch 51/100\n",
            "6/6 [==============================] - 2s 312ms/step - loss: 1.1945 - accuracy: 0.5340 - val_loss: 1.4276 - val_accuracy: 0.3533\n",
            "Epoch 52/100\n",
            "6/6 [==============================] - 1s 258ms/step - loss: 1.2123 - accuracy: 0.5433 - val_loss: 1.4268 - val_accuracy: 0.3556\n",
            "Epoch 53/100\n",
            "6/6 [==============================] - 2s 308ms/step - loss: 1.2269 - accuracy: 0.5491 - val_loss: 1.4265 - val_accuracy: 0.3533\n",
            "Epoch 54/100\n",
            "6/6 [==============================] - 1s 238ms/step - loss: 1.2126 - accuracy: 0.5424 - val_loss: 1.4251 - val_accuracy: 0.3556\n",
            "Epoch 55/100\n",
            "6/6 [==============================] - 2s 310ms/step - loss: 1.2320 - accuracy: 0.5348 - val_loss: 1.4153 - val_accuracy: 0.3578\n",
            "Epoch 56/100\n",
            "6/6 [==============================] - 1s 258ms/step - loss: 1.1906 - accuracy: 0.5569 - val_loss: 1.4047 - val_accuracy: 0.3644\n",
            "Epoch 57/100\n",
            "6/6 [==============================] - 1s 261ms/step - loss: 1.2180 - accuracy: 0.5436 - val_loss: 1.4003 - val_accuracy: 0.3667\n",
            "Epoch 58/100\n",
            "6/6 [==============================] - 1s 250ms/step - loss: 1.1989 - accuracy: 0.5555 - val_loss: 1.4009 - val_accuracy: 0.3578\n",
            "Epoch 59/100\n",
            "6/6 [==============================] - 1s 258ms/step - loss: 1.2108 - accuracy: 0.5461 - val_loss: 1.3976 - val_accuracy: 0.3644\n",
            "Epoch 60/100\n",
            "6/6 [==============================] - 1s 262ms/step - loss: 1.1988 - accuracy: 0.5472 - val_loss: 1.3924 - val_accuracy: 0.3800\n",
            "Epoch 61/100\n",
            "6/6 [==============================] - 1s 283ms/step - loss: 1.2035 - accuracy: 0.5592 - val_loss: 1.3813 - val_accuracy: 0.3911\n",
            "Epoch 62/100\n",
            "6/6 [==============================] - 2s 300ms/step - loss: 1.2223 - accuracy: 0.5276 - val_loss: 1.3812 - val_accuracy: 0.3778\n",
            "Epoch 63/100\n",
            "6/6 [==============================] - 1s 249ms/step - loss: 1.2120 - accuracy: 0.5413 - val_loss: 1.3675 - val_accuracy: 0.4022\n",
            "Epoch 64/100\n",
            "6/6 [==============================] - 2s 302ms/step - loss: 1.1985 - accuracy: 0.5623 - val_loss: 1.3665 - val_accuracy: 0.4000\n",
            "Epoch 65/100\n",
            "6/6 [==============================] - 1s 260ms/step - loss: 1.2086 - accuracy: 0.5424 - val_loss: 1.3708 - val_accuracy: 0.3933\n",
            "Epoch 66/100\n",
            "6/6 [==============================] - 2s 305ms/step - loss: 1.1950 - accuracy: 0.5513 - val_loss: 1.3561 - val_accuracy: 0.4022\n",
            "Epoch 67/100\n",
            "6/6 [==============================] - 1s 230ms/step - loss: 1.1789 - accuracy: 0.5529 - val_loss: 1.3545 - val_accuracy: 0.4067\n",
            "Epoch 68/100\n",
            "6/6 [==============================] - 2s 283ms/step - loss: 1.2007 - accuracy: 0.5614 - val_loss: 1.3476 - val_accuracy: 0.4000\n",
            "Epoch 69/100\n",
            "6/6 [==============================] - 1s 271ms/step - loss: 1.1954 - accuracy: 0.5534 - val_loss: 1.3351 - val_accuracy: 0.4156\n",
            "Epoch 70/100\n",
            "6/6 [==============================] - 1s 236ms/step - loss: 1.1966 - accuracy: 0.5435 - val_loss: 1.3318 - val_accuracy: 0.4222\n",
            "Epoch 71/100\n",
            "6/6 [==============================] - 2s 297ms/step - loss: 1.1998 - accuracy: 0.5401 - val_loss: 1.3428 - val_accuracy: 0.4067\n",
            "Epoch 72/100\n",
            "6/6 [==============================] - 2s 359ms/step - loss: 1.1981 - accuracy: 0.5522 - val_loss: 1.3270 - val_accuracy: 0.4156\n",
            "Epoch 73/100\n",
            "6/6 [==============================] - 2s 315ms/step - loss: 1.2019 - accuracy: 0.5331 - val_loss: 1.3069 - val_accuracy: 0.4289\n",
            "Epoch 74/100\n",
            "6/6 [==============================] - 1s 236ms/step - loss: 1.1666 - accuracy: 0.5652 - val_loss: 1.3072 - val_accuracy: 0.4333\n",
            "Epoch 75/100\n",
            "6/6 [==============================] - 2s 359ms/step - loss: 1.2056 - accuracy: 0.5396 - val_loss: 1.3101 - val_accuracy: 0.4333\n",
            "Epoch 76/100\n",
            "6/6 [==============================] - 1s 280ms/step - loss: 1.1980 - accuracy: 0.5564 - val_loss: 1.2922 - val_accuracy: 0.4378\n",
            "Epoch 77/100\n",
            "6/6 [==============================] - 1s 287ms/step - loss: 1.1915 - accuracy: 0.5534 - val_loss: 1.2871 - val_accuracy: 0.4444\n",
            "Epoch 78/100\n",
            "6/6 [==============================] - 1s 283ms/step - loss: 1.1979 - accuracy: 0.5460 - val_loss: 1.2820 - val_accuracy: 0.4533\n",
            "Epoch 79/100\n",
            "6/6 [==============================] - 1s 274ms/step - loss: 1.1891 - accuracy: 0.5635 - val_loss: 1.2714 - val_accuracy: 0.4578\n",
            "Epoch 80/100\n",
            "6/6 [==============================] - 2s 299ms/step - loss: 1.1855 - accuracy: 0.5674 - val_loss: 1.2615 - val_accuracy: 0.4756\n",
            "Epoch 81/100\n",
            "6/6 [==============================] - 2s 301ms/step - loss: 1.1927 - accuracy: 0.5426 - val_loss: 1.2645 - val_accuracy: 0.4578\n",
            "Epoch 82/100\n",
            "6/6 [==============================] - 2s 341ms/step - loss: 1.1809 - accuracy: 0.5631 - val_loss: 1.2560 - val_accuracy: 0.4800\n",
            "Epoch 83/100\n",
            "6/6 [==============================] - 1s 261ms/step - loss: 1.1699 - accuracy: 0.5719 - val_loss: 1.2478 - val_accuracy: 0.4956\n",
            "Epoch 84/100\n",
            "6/6 [==============================] - 2s 335ms/step - loss: 1.2006 - accuracy: 0.5488 - val_loss: 1.2385 - val_accuracy: 0.4733\n",
            "Epoch 85/100\n",
            "6/6 [==============================] - 1s 279ms/step - loss: 1.1808 - accuracy: 0.5692 - val_loss: 1.2430 - val_accuracy: 0.4733\n",
            "Epoch 86/100\n",
            "6/6 [==============================] - 2s 314ms/step - loss: 1.1864 - accuracy: 0.5543 - val_loss: 1.2357 - val_accuracy: 0.4933\n",
            "Epoch 87/100\n",
            "6/6 [==============================] - 1s 278ms/step - loss: 1.2034 - accuracy: 0.5473 - val_loss: 1.2249 - val_accuracy: 0.5244\n",
            "Epoch 88/100\n",
            "6/6 [==============================] - 2s 331ms/step - loss: 1.1777 - accuracy: 0.5503 - val_loss: 1.2156 - val_accuracy: 0.5267\n",
            "Epoch 89/100\n",
            "6/6 [==============================] - 1s 285ms/step - loss: 1.1953 - accuracy: 0.5495 - val_loss: 1.2085 - val_accuracy: 0.5244\n",
            "Epoch 90/100\n",
            "6/6 [==============================] - 2s 327ms/step - loss: 1.1814 - accuracy: 0.5740 - val_loss: 1.2092 - val_accuracy: 0.5133\n",
            "Epoch 91/100\n",
            "6/6 [==============================] - 2s 322ms/step - loss: 1.1934 - accuracy: 0.5527 - val_loss: 1.2099 - val_accuracy: 0.4911\n",
            "Epoch 92/100\n",
            "6/6 [==============================] - 2s 307ms/step - loss: 1.1830 - accuracy: 0.5615 - val_loss: 1.1961 - val_accuracy: 0.5067\n",
            "Epoch 93/100\n",
            "6/6 [==============================] - 2s 308ms/step - loss: 1.1840 - accuracy: 0.5489 - val_loss: 1.1819 - val_accuracy: 0.5333\n",
            "Epoch 94/100\n",
            "6/6 [==============================] - 1s 261ms/step - loss: 1.1754 - accuracy: 0.5660 - val_loss: 1.1751 - val_accuracy: 0.5378\n",
            "Epoch 95/100\n",
            "6/6 [==============================] - 2s 310ms/step - loss: 1.1882 - accuracy: 0.5585 - val_loss: 1.1847 - val_accuracy: 0.5156\n",
            "Epoch 96/100\n",
            "6/6 [==============================] - 2s 290ms/step - loss: 1.1949 - accuracy: 0.5494 - val_loss: 1.1762 - val_accuracy: 0.5244\n",
            "Epoch 97/100\n",
            "6/6 [==============================] - 1s 267ms/step - loss: 1.1830 - accuracy: 0.5577 - val_loss: 1.1623 - val_accuracy: 0.5711\n",
            "Epoch 98/100\n",
            "6/6 [==============================] - 1s 288ms/step - loss: 1.1716 - accuracy: 0.5644 - val_loss: 1.1597 - val_accuracy: 0.5778\n",
            "Epoch 99/100\n",
            "6/6 [==============================] - 1s 284ms/step - loss: 1.1764 - accuracy: 0.5667 - val_loss: 1.1566 - val_accuracy: 0.5644\n",
            "Epoch 100/100\n",
            "6/6 [==============================] - 1s 284ms/step - loss: 1.1733 - accuracy: 0.5464 - val_loss: 1.1567 - val_accuracy: 0.5467\n",
            "Total training time: 2.72090607881546 minutes\n"
          ],
          "name": "stdout"
        }
      ]
    },
    {
      "cell_type": "code",
      "metadata": {
        "colab": {
          "base_uri": "https://localhost:8080/",
          "height": 299
        },
        "id": "8_2B2nfe-_5a",
        "outputId": "604e8abe-adaa-4d4c-c90f-07e7977bad3d"
      },
      "source": [
        "utils.plot_history(history)\n",
        "_, accuracy = model.evaluate(validation_ds)\n",
        "print(\"Validation accuracy: {:.2f}%\".format(accuracy*100))"
      ],
      "execution_count": null,
      "outputs": [
        {
          "output_type": "display_data",
          "data": {
            "image/png": "[encoded data removed]",
            "text/plain": [
              "<Figure size 432x288 with 1 Axes>"
            ]
          },
          "metadata": {
            "tags": [],
            "needs_background": "light"
          }
        },
        {
          "output_type": "stream",
          "text": [
            "1/1 [==============================] - 1s 929ms/step - loss: 1.1566 - accuracy: 0.5467\n",
            "Validation accuracy: 54.67%\n"
          ],
          "name": "stdout"
        }
      ]
    },
    {
      "cell_type": "markdown",
      "metadata": {
        "id": "foQ5iYufH8_3"
      },
      "source": [
        "Kindly keep in mind that the network is relatively very shallow."
      ]
    }
  ]
}